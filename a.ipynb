{
 "cells": [
  {
   "cell_type": "code",
   "execution_count": 5,
   "metadata": {},
   "outputs": [
    {
     "name": "stdout",
     "output_type": "stream",
     "text": [
      "10\n",
      "10\n"
     ]
    }
   ],
   "source": [
    "import h5py\n",
    "import torch\n",
    "app = h5py.File('data/Youtube2Text/feats/image_resnet101_imagenet_fps_max60.hdf5','r')\n",
    "mot = h5py.File('data/Youtube2Text/feats/motion_resnext101_kinetics_duration16_overlap8.hdf5','r')\n",
    "min = 999\n",
    "for k in app.keys():\n",
    "    if torch.tensor(app[k]).size(0) < min : min = torch.tensor(app[k]).size(0)\n",
    "print(min)\n",
    "min = 999\n",
    "for k in mot.keys():\n",
    "    if torch.tensor(app[k]).size(0) < min : min = torch.tensor(app[k]).size(0)\n",
    "print(min)"
   ]
  },
  {
   "cell_type": "code",
   "execution_count": 7,
   "metadata": {},
   "outputs": [
    {
     "name": "stdout",
     "output_type": "stream",
     "text": [
      "<built-in method size of Tensor object at 0x7f39571cfb90>\n",
      "torch.Size([10, 8, 512])\n"
     ]
    }
   ],
   "source": [
    "import torch\n",
    "import torch.nn as nn\n",
    "import torch.nn.functional as F\n",
    "class SP(nn.Module):\n",
    "    \"\"\"SP layer implementation\n",
    "    \n",
    "    Args:\n",
    "        num_clusters : int\n",
    "            The number of pseudo regions\n",
    "        dim : int\n",
    "            Dimension of pseudo regions\n",
    "        alpha : float\n",
    "            Parameter of initialization. Larger value is harder assignment.\n",
    "        normalize_input : bool\n",
    "            If true, pseudo regions-wise L2 normalization is applied to input.\n",
    "    \"\"\"\n",
    "    def __init__(self, num_regions=64, dim=128, alpha=100.0, normalize_input=True):\n",
    "        super().__init__()\n",
    "        self.num_regions = num_regions\n",
    "        self.dim = dim\n",
    "        self.alpha = alpha\n",
    "        self.normalize_input = normalize_input\n",
    "        self.conv = nn.Conv2d(dim, num_regions, kernel_size=(1, 1), bias=True)\n",
    "        self.centroids = nn.Parameter(torch.rand(num_regions, dim))\n",
    "        self.init_weights()\n",
    "    def init_weights(self):\n",
    "        for p in self.parameters():\n",
    "            if p.dim() > 1:\n",
    "                nn.init.xavier_uniform_(p)\n",
    "    def forward(self, grids):\n",
    "                   \n",
    "        N, frame, C = grids.shape\n",
    "\n",
    "        grids = grids.view(N, frame, 1, -1).permute(0,3,1,2).contiguous() # N dim grid 1\n",
    "        print(grids.size)\n",
    "        if self.normalize_input:\n",
    "            grids = F.normalize(grids, p=2, dim=1)  # across descriptor dim\n",
    "\n",
    "        soft_assign = self.conv(grids).view(N, self.num_regions, -1)\n",
    "        soft_assign = F.softmax(soft_assign, dim=1)\n",
    "\n",
    "        x_flatten = grids.view(N, C, -1)\n",
    "        \n",
    "        residual = x_flatten.expand(self.num_regions, -1, -1, -1).permute(1, 0, 2, 3).contiguous() - \\\n",
    "            self.centroids.expand(x_flatten.size(-1), -1, -1).permute(1, 2, 0).contiguous().unsqueeze(0)\n",
    "\n",
    "        residual *= soft_assign.unsqueeze(2)\n",
    "        p = residual.sum(dim=-1)\n",
    "\n",
    "        p = F.normalize(p, p=2, dim=2)  # intra-normalization\n",
    "        p = p.view(grids.size(0), -1)\n",
    "        p = F.normalize(p, p=2, dim=1)  # L2 normalize\n",
    "\n",
    "        return p.reshape(N, self.num_regions, -1)\n",
    "\n",
    "f = SP(num_regions=8,dim=512)\n",
    "a = torch.rand(10,20,512)\n",
    "p = f(a)\n",
    "print(p.size())"
   ]
  }
 ],
 "metadata": {
  "interpreter": {
   "hash": "66ffa58902e3eadde27c2afd822996bbcd37d96c928eaa7f2ecc0236ea99b2ee"
  },
  "kernelspec": {
   "display_name": "Python 3.7.11 ('ic')",
   "language": "python",
   "name": "python3"
  },
  "language_info": {
   "codemirror_mode": {
    "name": "ipython",
    "version": 3
   },
   "file_extension": ".py",
   "mimetype": "text/x-python",
   "name": "python",
   "nbconvert_exporter": "python",
   "pygments_lexer": "ipython3",
   "version": "3.7.11"
  },
  "orig_nbformat": 4
 },
 "nbformat": 4,
 "nbformat_minor": 2
}
