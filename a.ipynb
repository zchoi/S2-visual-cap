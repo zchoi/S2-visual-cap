{
 "cells": [],
 "metadata": {
  "interpreter": {
   "hash": "66ffa58902e3eadde27c2afd822996bbcd37d96c928eaa7f2ecc0236ea99b2ee"
  },
  "kernelspec": {
   "display_name": "Python 3.7.11 ('ic')",
   "language": "python",
   "name": "python3"
  },
  "language_info": {
   "codemirror_mode": {
    "name": "ipython",
    "version": 3
   },
   "file_extension": ".py",
   "mimetype": "text/x-python",
   "name": "python",
   "nbconvert_exporter": "python",
   "pygments_lexer": "ipython3",
   "version": "3.7.11"
  },
  "orig_nbformat": 4
 },
 "nbformat": 4,
 "nbformat_minor": 2
}
